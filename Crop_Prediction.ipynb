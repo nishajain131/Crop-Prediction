{
 "cells": [
  {
   "cell_type": "markdown",
   "metadata": {},
   "source": [
    "# CROP PREDICTION"
   ]
  },
  {
   "cell_type": "code",
   "execution_count": 1,
   "metadata": {},
   "outputs": [
    {
     "name": "stdout",
     "output_type": "stream",
     "text": [
      "/home/lenovo\n"
     ]
    }
   ],
   "source": [
    "cd ~"
   ]
  },
  {
   "cell_type": "code",
   "execution_count": 2,
   "metadata": {
    "executionInfo": {
     "elapsed": 410,
     "status": "ok",
     "timestamp": 1629297720129,
     "user": {
      "displayName": "Nisha Jain",
      "photoUrl": "https://lh3.googleusercontent.com/a-/AOh14Gi6rHZwDeuFv3Ag2O0fileLnGKdWzp42w9CDjNq=s64",
      "userId": "13806820765040967715"
     },
     "user_tz": -330
    },
    "id": "u253J9Zfa5GG"
   },
   "outputs": [],
   "source": [
    "#importing libraries\n",
    "\n",
    "import numpy as np\n",
    "import pandas as pd\n",
    "import matplotlib.pyplot as plt\n",
    "import seaborn as sns\n",
    "from sklearn.impute import SimpleImputer"
   ]
  },
  {
   "cell_type": "code",
   "execution_count": 3,
   "metadata": {
    "colab": {
     "base_uri": "https://localhost:8080/"
    },
    "executionInfo": {
     "elapsed": 441,
     "status": "ok",
     "timestamp": 1629297724596,
     "user": {
      "displayName": "Nisha Jain",
      "photoUrl": "https://lh3.googleusercontent.com/a-/AOh14Gi6rHZwDeuFv3Ag2O0fileLnGKdWzp42w9CDjNq=s64",
      "userId": "13806820765040967715"
     },
     "user_tz": -330
    },
    "id": "XlGuBC_LhAOV",
    "outputId": "0c294b3c-d2ab-42e3-ca0b-f53e5dd9953b"
   },
   "outputs": [
    {
     "name": "stdout",
     "output_type": "stream",
     "text": [
      "<class 'pandas.core.frame.DataFrame'>\n",
      "RangeIndex: 2200 entries, 0 to 2199\n",
      "Data columns (total 8 columns):\n",
      " #   Column       Non-Null Count  Dtype  \n",
      "---  ------       --------------  -----  \n",
      " 0   N            2200 non-null   object \n",
      " 1   P            2198 non-null   float64\n",
      " 2   K            2199 non-null   float64\n",
      " 3   temperature  2198 non-null   float64\n",
      " 4   humidity     2199 non-null   object \n",
      " 5   ph           2200 non-null   float64\n",
      " 6   rainfall     2199 non-null   float64\n",
      " 7   label        2200 non-null   object \n",
      "dtypes: float64(5), object(3)\n",
      "memory usage: 137.6+ KB\n"
     ]
    }
   ],
   "source": [
    "#importing dataset\n",
    "\n",
    "data = pd.read_csv('data2.csv')\n",
    "data.info()"
   ]
  },
  {
   "cell_type": "code",
   "execution_count": 4,
   "metadata": {},
   "outputs": [
    {
     "data": {
      "text/plain": [
       "N              0\n",
       "P              2\n",
       "K              1\n",
       "temperature    2\n",
       "humidity       1\n",
       "ph             0\n",
       "rainfall       1\n",
       "label          0\n",
       "dtype: int64"
      ]
     },
     "execution_count": 4,
     "metadata": {},
     "output_type": "execute_result"
    }
   ],
   "source": [
    "#looking for null values\n",
    "data.isnull().sum()"
   ]
  },
  {
   "cell_type": "code",
   "execution_count": 5,
   "metadata": {},
   "outputs": [],
   "source": [
    "#handling null values by replacing them with the mean\n",
    "\n",
    "nan_col = ['N','P','K','temperature','humidity','rainfall']\n",
    "imputer = SimpleImputer(strategy='mean')\n",
    "data[nan_col]=imputer.fit_transform(data[nan_col])"
   ]
  },
  {
   "cell_type": "code",
   "execution_count": 6,
   "metadata": {},
   "outputs": [
    {
     "data": {
      "text/plain": [
       "(2200, 8)"
      ]
     },
     "execution_count": 6,
     "metadata": {},
     "output_type": "execute_result"
    }
   ],
   "source": [
    "data.shape"
   ]
  },
  {
   "cell_type": "code",
   "execution_count": 7,
   "metadata": {
    "colab": {
     "base_uri": "https://localhost:8080/",
     "height": 206
    },
    "executionInfo": {
     "elapsed": 13,
     "status": "ok",
     "timestamp": 1629297154270,
     "user": {
      "displayName": "Nisha Jain",
      "photoUrl": "https://lh3.googleusercontent.com/a-/AOh14Gi6rHZwDeuFv3Ag2O0fileLnGKdWzp42w9CDjNq=s64",
      "userId": "13806820765040967715"
     },
     "user_tz": -330
    },
    "id": "ShguWz1DpQFD",
    "outputId": "1e091bb3-ad66-4757-b1cf-00b917ccc9a9"
   },
   "outputs": [
    {
     "data": {
      "text/html": [
       "<div>\n",
       "<style scoped>\n",
       "    .dataframe tbody tr th:only-of-type {\n",
       "        vertical-align: middle;\n",
       "    }\n",
       "\n",
       "    .dataframe tbody tr th {\n",
       "        vertical-align: top;\n",
       "    }\n",
       "\n",
       "    .dataframe thead th {\n",
       "        text-align: right;\n",
       "    }\n",
       "</style>\n",
       "<table border=\"1\" class=\"dataframe\">\n",
       "  <thead>\n",
       "    <tr style=\"text-align: right;\">\n",
       "      <th></th>\n",
       "      <th>N</th>\n",
       "      <th>P</th>\n",
       "      <th>K</th>\n",
       "      <th>temperature</th>\n",
       "      <th>humidity</th>\n",
       "      <th>ph</th>\n",
       "      <th>rainfall</th>\n",
       "      <th>label</th>\n",
       "    </tr>\n",
       "  </thead>\n",
       "  <tbody>\n",
       "    <tr>\n",
       "      <th>0</th>\n",
       "      <td>90.0</td>\n",
       "      <td>42.0</td>\n",
       "      <td>43.0</td>\n",
       "      <td>20.879744</td>\n",
       "      <td>82.002744</td>\n",
       "      <td>6.502985</td>\n",
       "      <td>202.935536</td>\n",
       "      <td>rice</td>\n",
       "    </tr>\n",
       "    <tr>\n",
       "      <th>1</th>\n",
       "      <td>85.0</td>\n",
       "      <td>58.0</td>\n",
       "      <td>41.0</td>\n",
       "      <td>21.770462</td>\n",
       "      <td>80.319644</td>\n",
       "      <td>7.038096</td>\n",
       "      <td>226.655537</td>\n",
       "      <td>rice</td>\n",
       "    </tr>\n",
       "    <tr>\n",
       "      <th>2</th>\n",
       "      <td>60.0</td>\n",
       "      <td>55.0</td>\n",
       "      <td>44.0</td>\n",
       "      <td>23.004459</td>\n",
       "      <td>82.320763</td>\n",
       "      <td>7.840207</td>\n",
       "      <td>263.964248</td>\n",
       "      <td>rice</td>\n",
       "    </tr>\n",
       "    <tr>\n",
       "      <th>3</th>\n",
       "      <td>74.0</td>\n",
       "      <td>35.0</td>\n",
       "      <td>40.0</td>\n",
       "      <td>26.491096</td>\n",
       "      <td>80.158363</td>\n",
       "      <td>6.980401</td>\n",
       "      <td>242.864034</td>\n",
       "      <td>rice</td>\n",
       "    </tr>\n",
       "    <tr>\n",
       "      <th>4</th>\n",
       "      <td>78.0</td>\n",
       "      <td>42.0</td>\n",
       "      <td>42.0</td>\n",
       "      <td>20.130175</td>\n",
       "      <td>81.604873</td>\n",
       "      <td>7.628473</td>\n",
       "      <td>262.717340</td>\n",
       "      <td>rice</td>\n",
       "    </tr>\n",
       "  </tbody>\n",
       "</table>\n",
       "</div>"
      ],
      "text/plain": [
       "      N     P     K  temperature   humidity        ph    rainfall label\n",
       "0  90.0  42.0  43.0    20.879744  82.002744  6.502985  202.935536  rice\n",
       "1  85.0  58.0  41.0    21.770462  80.319644  7.038096  226.655537  rice\n",
       "2  60.0  55.0  44.0    23.004459  82.320763  7.840207  263.964248  rice\n",
       "3  74.0  35.0  40.0    26.491096  80.158363  6.980401  242.864034  rice\n",
       "4  78.0  42.0  42.0    20.130175  81.604873  7.628473  262.717340  rice"
      ]
     },
     "execution_count": 7,
     "metadata": {},
     "output_type": "execute_result"
    }
   ],
   "source": [
    "data.head()"
   ]
  },
  {
   "cell_type": "code",
   "execution_count": 8,
   "metadata": {
    "colab": {
     "base_uri": "https://localhost:8080/"
    },
    "executionInfo": {
     "elapsed": 412,
     "status": "ok",
     "timestamp": 1626853501296,
     "user": {
      "displayName": "4PS18IS033 Nisha Jain",
      "photoUrl": "https://lh3.googleusercontent.com/a-/AOh14Gi6rHZwDeuFv3Ag2O0fileLnGKdWzp42w9CDjNq=s64",
      "userId": "13806820765040967715"
     },
     "user_tz": -330
    },
    "id": "3p7rjuxjmxw7",
    "outputId": "b372740b-8bd9-43c2-fddf-542634d69371"
   },
   "outputs": [
    {
     "data": {
      "text/plain": [
       "kidneybeans    100\n",
       "blackgram      100\n",
       "cotton         100\n",
       "pigeonpeas     100\n",
       "papaya         100\n",
       "lentil         100\n",
       "chickpea       100\n",
       "orange         100\n",
       "banana         100\n",
       "grapes         100\n",
       "maize          100\n",
       "rice           100\n",
       "watermelon     100\n",
       "apple          100\n",
       "coffee         100\n",
       "pomegranate    100\n",
       "mango          100\n",
       "mungbean       100\n",
       "coconut        100\n",
       "jute           100\n",
       "muskmelon      100\n",
       "mothbeans      100\n",
       "Name: label, dtype: int64"
      ]
     },
     "execution_count": 8,
     "metadata": {},
     "output_type": "execute_result"
    }
   ],
   "source": [
    "data['label'].value_counts()"
   ]
  },
  {
   "cell_type": "code",
   "execution_count": 9,
   "metadata": {
    "colab": {
     "base_uri": "https://localhost:8080/",
     "height": 297
    },
    "executionInfo": {
     "elapsed": 17,
     "status": "ok",
     "timestamp": 1626853502983,
     "user": {
      "displayName": "4PS18IS033 Nisha Jain",
      "photoUrl": "https://lh3.googleusercontent.com/a-/AOh14Gi6rHZwDeuFv3Ag2O0fileLnGKdWzp42w9CDjNq=s64",
      "userId": "13806820765040967715"
     },
     "user_tz": -330
    },
    "id": "ILA6OFtChqzX",
    "outputId": "9ffdcb13-8b36-45f5-f11a-9d6d62acba24"
   },
   "outputs": [
    {
     "data": {
      "text/html": [
       "<div>\n",
       "<style scoped>\n",
       "    .dataframe tbody tr th:only-of-type {\n",
       "        vertical-align: middle;\n",
       "    }\n",
       "\n",
       "    .dataframe tbody tr th {\n",
       "        vertical-align: top;\n",
       "    }\n",
       "\n",
       "    .dataframe thead th {\n",
       "        text-align: right;\n",
       "    }\n",
       "</style>\n",
       "<table border=\"1\" class=\"dataframe\">\n",
       "  <thead>\n",
       "    <tr style=\"text-align: right;\">\n",
       "      <th></th>\n",
       "      <th>N</th>\n",
       "      <th>P</th>\n",
       "      <th>K</th>\n",
       "      <th>temperature</th>\n",
       "      <th>humidity</th>\n",
       "      <th>ph</th>\n",
       "      <th>rainfall</th>\n",
       "    </tr>\n",
       "  </thead>\n",
       "  <tbody>\n",
       "    <tr>\n",
       "      <th>count</th>\n",
       "      <td>2200.000000</td>\n",
       "      <td>2200.000000</td>\n",
       "      <td>2200.000000</td>\n",
       "      <td>2200.000000</td>\n",
       "      <td>2200.000000</td>\n",
       "      <td>2200.000000</td>\n",
       "      <td>2200.000000</td>\n",
       "    </tr>\n",
       "    <tr>\n",
       "      <th>mean</th>\n",
       "      <td>50.534334</td>\n",
       "      <td>53.334395</td>\n",
       "      <td>48.151887</td>\n",
       "      <td>25.617969</td>\n",
       "      <td>71.529203</td>\n",
       "      <td>6.469850</td>\n",
       "      <td>103.479412</td>\n",
       "    </tr>\n",
       "    <tr>\n",
       "      <th>std</th>\n",
       "      <td>36.908224</td>\n",
       "      <td>32.941369</td>\n",
       "      <td>50.647761</td>\n",
       "      <td>5.061726</td>\n",
       "      <td>22.208106</td>\n",
       "      <td>0.774205</td>\n",
       "      <td>54.953419</td>\n",
       "    </tr>\n",
       "    <tr>\n",
       "      <th>min</th>\n",
       "      <td>0.000000</td>\n",
       "      <td>5.000000</td>\n",
       "      <td>5.000000</td>\n",
       "      <td>8.825675</td>\n",
       "      <td>14.258040</td>\n",
       "      <td>3.504752</td>\n",
       "      <td>20.211267</td>\n",
       "    </tr>\n",
       "    <tr>\n",
       "      <th>25%</th>\n",
       "      <td>21.000000</td>\n",
       "      <td>28.000000</td>\n",
       "      <td>20.000000</td>\n",
       "      <td>22.770662</td>\n",
       "      <td>60.280638</td>\n",
       "      <td>5.971693</td>\n",
       "      <td>64.551686</td>\n",
       "    </tr>\n",
       "    <tr>\n",
       "      <th>50%</th>\n",
       "      <td>37.000000</td>\n",
       "      <td>51.000000</td>\n",
       "      <td>32.000000</td>\n",
       "      <td>25.600938</td>\n",
       "      <td>80.473146</td>\n",
       "      <td>6.425675</td>\n",
       "      <td>94.986242</td>\n",
       "    </tr>\n",
       "    <tr>\n",
       "      <th>75%</th>\n",
       "      <td>84.000000</td>\n",
       "      <td>68.000000</td>\n",
       "      <td>49.000000</td>\n",
       "      <td>28.561654</td>\n",
       "      <td>89.948771</td>\n",
       "      <td>6.923643</td>\n",
       "      <td>124.267508</td>\n",
       "    </tr>\n",
       "    <tr>\n",
       "      <th>max</th>\n",
       "      <td>140.000000</td>\n",
       "      <td>145.000000</td>\n",
       "      <td>205.000000</td>\n",
       "      <td>43.675493</td>\n",
       "      <td>99.981876</td>\n",
       "      <td>9.935091</td>\n",
       "      <td>298.560117</td>\n",
       "    </tr>\n",
       "  </tbody>\n",
       "</table>\n",
       "</div>"
      ],
      "text/plain": [
       "                 N            P            K  temperature     humidity  \\\n",
       "count  2200.000000  2200.000000  2200.000000  2200.000000  2200.000000   \n",
       "mean     50.534334    53.334395    48.151887    25.617969    71.529203   \n",
       "std      36.908224    32.941369    50.647761     5.061726    22.208106   \n",
       "min       0.000000     5.000000     5.000000     8.825675    14.258040   \n",
       "25%      21.000000    28.000000    20.000000    22.770662    60.280638   \n",
       "50%      37.000000    51.000000    32.000000    25.600938    80.473146   \n",
       "75%      84.000000    68.000000    49.000000    28.561654    89.948771   \n",
       "max     140.000000   145.000000   205.000000    43.675493    99.981876   \n",
       "\n",
       "                ph     rainfall  \n",
       "count  2200.000000  2200.000000  \n",
       "mean      6.469850   103.479412  \n",
       "std       0.774205    54.953419  \n",
       "min       3.504752    20.211267  \n",
       "25%       5.971693    64.551686  \n",
       "50%       6.425675    94.986242  \n",
       "75%       6.923643   124.267508  \n",
       "max       9.935091   298.560117  "
      ]
     },
     "execution_count": 9,
     "metadata": {},
     "output_type": "execute_result"
    }
   ],
   "source": [
    "data.describe()"
   ]
  },
  {
   "cell_type": "code",
   "execution_count": 10,
   "metadata": {},
   "outputs": [
    {
     "data": {
      "text/plain": [
       "N              0\n",
       "P              0\n",
       "K              0\n",
       "temperature    0\n",
       "humidity       0\n",
       "ph             0\n",
       "rainfall       0\n",
       "label          0\n",
       "dtype: int64"
      ]
     },
     "execution_count": 10,
     "metadata": {},
     "output_type": "execute_result"
    }
   ],
   "source": [
    "data.isnull().sum()"
   ]
  },
  {
   "cell_type": "code",
   "execution_count": 11,
   "metadata": {
    "colab": {
     "base_uri": "https://localhost:8080/",
     "height": 1000
    },
    "executionInfo": {
     "elapsed": 7490,
     "status": "ok",
     "timestamp": 1626853513604,
     "user": {
      "displayName": "4PS18IS033 Nisha Jain",
      "photoUrl": "https://lh3.googleusercontent.com/a-/AOh14Gi6rHZwDeuFv3Ag2O0fileLnGKdWzp42w9CDjNq=s64",
      "userId": "13806820765040967715"
     },
     "user_tz": -330
    },
    "id": "mCen9FE_h7Hb",
    "outputId": "57ef8cb1-451e-4fd5-a3c8-0195a0d86a00"
   },
   "outputs": [
    {
     "data": {
      "image/png": "[encoded data removed]",
      "text/plain": [
       "<Figure size 1368x504 with 1 Axes>"
      ]
     },
     "metadata": {
      "needs_background": "light"
     },
     "output_type": "display_data"
    },
    {
     "data": {
      "image/png": "[encoded data removed]",
      "text/plain": [
       "<Figure size 1368x504 with 1 Axes>"
      ]
     },
     "metadata": {
      "needs_background": "light"
     },
     "output_type": "display_data"
    },
    {
     "data": {
      "image/png": "[encoded data removed]",
      "text/plain": [
       "<Figure size 1368x504 with 1 Axes>"
      ]
     },
     "metadata": {
      "needs_background": "light"
     },
     "output_type": "display_data"
    },
    {
     "data": {
      "image/png": "[encoded data removed]",
      "text/plain": [
       "<Figure size 1368x504 with 1 Axes>"
      ]
     },
     "metadata": {
      "needs_background": "light"
     },
     "output_type": "display_data"
    },
    {
     "data": {
      "image/png": "[encoded data removed]",
      "text/plain": [
       "<Figure size 1368x504 with 1 Axes>"
      ]
     },
     "metadata": {
      "needs_background": "light"
     },
     "output_type": "display_data"
    },
    {
     "data": {
      "image/png": "[encoded data removed]",
      "text/plain": [
       "<Figure size 1368x504 with 1 Axes>"
      ]
     },
     "metadata": {
      "needs_background": "light"
     },
     "output_type": "display_data"
    },
    {
     "data": {
      "image/png": "[encoded data removed]",
      "text/plain": [
       "<Figure size 1368x504 with 1 Axes>"
      ]
     },
     "metadata": {
      "needs_background": "light"
     },
     "output_type": "display_data"
    }
   ],
   "source": [
    "#visualizing\n",
    "all_columns = data.columns[:-1]\n",
    "for column in all_columns:\n",
    "    plt.figure(figsize=(19,7))\n",
    "    sns.barplot(x = \"label\", y = column, data = data)\n",
    "    plt.xticks(rotation=90)\n",
    "    plt.title(f\"{column} vs Crop Type\")\n",
    "    plt.show()"
   ]
  },
  {
   "cell_type": "code",
   "execution_count": 12,
   "metadata": {
    "colab": {
     "base_uri": "https://localhost:8080/",
     "height": 339
    },
    "executionInfo": {
     "elapsed": 972,
     "status": "ok",
     "timestamp": 1626853515664,
     "user": {
      "displayName": "4PS18IS033 Nisha Jain",
      "photoUrl": "https://lh3.googleusercontent.com/a-/AOh14Gi6rHZwDeuFv3Ag2O0fileLnGKdWzp42w9CDjNq=s64",
      "userId": "13806820765040967715"
     },
     "user_tz": -330
    },
    "id": "_jplC4lYijmN",
    "outputId": "7b0d7b2e-94ce-4e9d-d589-2300e328977f"
   },
   "outputs": [
    {
     "data": {
      "text/plain": [
       "<AxesSubplot:>"
      ]
     },
     "execution_count": 12,
     "metadata": {},
     "output_type": "execute_result"
    },
    {
     "data": {
      "image/png": "[encoded data removed]",
      "text/plain": [
       "<Figure size 432x288 with 2 Axes>"
      ]
     },
     "metadata": {
      "needs_background": "light"
     },
     "output_type": "display_data"
    }
   ],
   "source": [
    "sns.heatmap(data.corr(),annot=True)"
   ]
  },
  {
   "cell_type": "markdown",
   "metadata": {
    "id": "by2AfuyyrLCD"
   },
   "source": [
    "## **Splitting dataset**"
   ]
  },
  {
   "cell_type": "code",
   "execution_count": 13,
   "metadata": {},
   "outputs": [
    {
     "data": {
      "text/plain": [
       "(2200, 8)"
      ]
     },
     "execution_count": 13,
     "metadata": {},
     "output_type": "execute_result"
    }
   ],
   "source": [
    "data.shape"
   ]
  },
  {
   "cell_type": "code",
   "execution_count": 14,
   "metadata": {},
   "outputs": [],
   "source": [
    "x = data.iloc[:,:-1]\n",
    "y = data.iloc[:,-1]"
   ]
  },
  {
   "cell_type": "code",
   "execution_count": 15,
   "metadata": {
    "executionInfo": {
     "elapsed": 461,
     "status": "ok",
     "timestamp": 1629297800068,
     "user": {
      "displayName": "Nisha Jain",
      "photoUrl": "https://lh3.googleusercontent.com/a-/AOh14Gi6rHZwDeuFv3Ag2O0fileLnGKdWzp42w9CDjNq=s64",
      "userId": "13806820765040967715"
     },
     "user_tz": -330
    },
    "id": "mVbRDRqbq1gF"
   },
   "outputs": [],
   "source": [
    "from sklearn.model_selection import train_test_split\n",
    "x_train,x_test,y_train,y_test = train_test_split(x,y,test_size=0.25,random_state=0)"
   ]
  },
  {
   "cell_type": "code",
   "execution_count": null,
   "metadata": {
    "colab": {
     "base_uri": "https://localhost:8080/",
     "height": 424
    },
    "executionInfo": {
     "elapsed": 11,
     "status": "ok",
     "timestamp": 1629297172399,
     "user": {
      "displayName": "Nisha Jain",
      "photoUrl": "https://lh3.googleusercontent.com/a-/AOh14Gi6rHZwDeuFv3Ag2O0fileLnGKdWzp42w9CDjNq=s64",
      "userId": "13806820765040967715"
     },
     "user_tz": -330
    },
    "id": "Vj1fH4pksmim",
    "outputId": "642c16fa-7d3b-4967-d365-0aeaf8a8f3de"
   },
   "outputs": [],
   "source": [
    "x_train"
   ]
  },
  {
   "cell_type": "code",
   "execution_count": null,
   "metadata": {
    "colab": {
     "base_uri": "https://localhost:8080/"
    },
    "executionInfo": {
     "elapsed": 9,
     "status": "ok",
     "timestamp": 1626853524656,
     "user": {
      "displayName": "4PS18IS033 Nisha Jain",
      "photoUrl": "https://lh3.googleusercontent.com/a-/AOh14Gi6rHZwDeuFv3Ag2O0fileLnGKdWzp42w9CDjNq=s64",
      "userId": "13806820765040967715"
     },
     "user_tz": -330
    },
    "id": "bh48unmqsw4B",
    "outputId": "69bc7e36-b9a9-4fce-a251-c505da3d6ee8"
   },
   "outputs": [],
   "source": [
    "y_train"
   ]
  },
  {
   "cell_type": "code",
   "execution_count": null,
   "metadata": {
    "colab": {
     "base_uri": "https://localhost:8080/",
     "height": 419
    },
    "executionInfo": {
     "elapsed": 526,
     "status": "ok",
     "timestamp": 1626853526804,
     "user": {
      "displayName": "4PS18IS033 Nisha Jain",
      "photoUrl": "https://lh3.googleusercontent.com/a-/AOh14Gi6rHZwDeuFv3Ag2O0fileLnGKdWzp42w9CDjNq=s64",
      "userId": "13806820765040967715"
     },
     "user_tz": -330
    },
    "id": "e_Sxw2jXs1q9",
    "outputId": "ab9ea564-97eb-40e6-e51d-0f66fda89bf6"
   },
   "outputs": [],
   "source": [
    "x_test"
   ]
  },
  {
   "cell_type": "code",
   "execution_count": null,
   "metadata": {
    "colab": {
     "base_uri": "https://localhost:8080/"
    },
    "executionInfo": {
     "elapsed": 380,
     "status": "ok",
     "timestamp": 1626853529527,
     "user": {
      "displayName": "4PS18IS033 Nisha Jain",
      "photoUrl": "https://lh3.googleusercontent.com/a-/AOh14Gi6rHZwDeuFv3Ag2O0fileLnGKdWzp42w9CDjNq=s64",
      "userId": "13806820765040967715"
     },
     "user_tz": -330
    },
    "id": "hoVLVoSZs8bn",
    "outputId": "8975359d-f439-4a5c-b81c-1ca24cceeebd"
   },
   "outputs": [],
   "source": [
    "y_test"
   ]
  },
  {
   "cell_type": "markdown",
   "metadata": {
    "id": "UjtXUeEStL2c"
   },
   "source": [
    "## **Feature** **Scaling**"
   ]
  },
  {
   "cell_type": "code",
   "execution_count": 16,
   "metadata": {
    "executionInfo": {
     "elapsed": 405,
     "status": "ok",
     "timestamp": 1629297841268,
     "user": {
      "displayName": "Nisha Jain",
      "photoUrl": "https://lh3.googleusercontent.com/a-/AOh14Gi6rHZwDeuFv3Ag2O0fileLnGKdWzp42w9CDjNq=s64",
      "userId": "13806820765040967715"
     },
     "user_tz": -330
    },
    "id": "QxsdNP-xtFE3"
   },
   "outputs": [],
   "source": [
    "from sklearn.preprocessing import StandardScaler\n",
    "sc = StandardScaler()\n",
    "x_train = sc.fit_transform(x_train)\n",
    "x_test = sc.transform(x_test)\n"
   ]
  },
  {
   "cell_type": "code",
   "execution_count": 17,
   "metadata": {
    "colab": {
     "base_uri": "https://localhost:8080/"
    },
    "executionInfo": {
     "elapsed": 14,
     "status": "ok",
     "timestamp": 1629297184588,
     "user": {
      "displayName": "Nisha Jain",
      "photoUrl": "https://lh3.googleusercontent.com/a-/AOh14Gi6rHZwDeuFv3Ag2O0fileLnGKdWzp42w9CDjNq=s64",
      "userId": "13806820765040967715"
     },
     "user_tz": -330
    },
    "id": "yMnxtDa4tXsM",
    "outputId": "bdfdc6d5-7893-455e-ccc2-7626fdb2a40f"
   },
   "outputs": [
    {
     "data": {
      "text/plain": [
       "array([[ 2.25503714,  0.07683481, -0.59148671, ...,  0.56019082,\n",
       "         0.2858316 , -0.58883131],\n",
       "       [-0.58390501,  2.07317214,  2.90379741, ...,  0.43512997,\n",
       "        -1.09896287, -0.55097728],\n",
       "       [-0.69205518,  0.43980524, -0.57185028, ..., -0.32982746,\n",
       "         0.83449682, -0.6520129 ],\n",
       "       ...,\n",
       "       [-0.42167974,  0.31881509, -0.65039599, ..., -0.36237331,\n",
       "         0.0344722 , -0.61496072],\n",
       "       [-0.31352956,  0.34906263, -0.49330457, ..., -0.10935754,\n",
       "         1.5940195 , -1.12991974],\n",
       "       [-0.98946817, -0.95158139, -0.76821456, ...,  0.88692002,\n",
       "         0.09108612,  0.16164607]])"
      ]
     },
     "execution_count": 17,
     "metadata": {},
     "output_type": "execute_result"
    }
   ],
   "source": [
    "x_train"
   ]
  },
  {
   "cell_type": "code",
   "execution_count": null,
   "metadata": {
    "colab": {
     "base_uri": "https://localhost:8080/"
    },
    "executionInfo": {
     "elapsed": 13,
     "status": "ok",
     "timestamp": 1629297185017,
     "user": {
      "displayName": "Nisha Jain",
      "photoUrl": "https://lh3.googleusercontent.com/a-/AOh14Gi6rHZwDeuFv3Ag2O0fileLnGKdWzp42w9CDjNq=s64",
      "userId": "13806820765040967715"
     },
     "user_tz": -330
    },
    "id": "-sxrONxwtbIG",
    "outputId": "32f33fe4-eb1e-4482-e93c-2695e9ed478e"
   },
   "outputs": [],
   "source": [
    "x_test"
   ]
  },
  {
   "cell_type": "code",
   "execution_count": 18,
   "metadata": {
    "executionInfo": {
     "elapsed": 11,
     "status": "ok",
     "timestamp": 1629297186532,
     "user": {
      "displayName": "Nisha Jain",
      "photoUrl": "https://lh3.googleusercontent.com/a-/AOh14Gi6rHZwDeuFv3Ag2O0fileLnGKdWzp42w9CDjNq=s64",
      "userId": "13806820765040967715"
     },
     "user_tz": -330
    },
    "id": "6I4IvVdStd4Y"
   },
   "outputs": [],
   "source": [
    "# Initialzing empty lists to append all model's name and corresponding name\n",
    "acc = []\n",
    "model = []"
   ]
  },
  {
   "cell_type": "markdown",
   "metadata": {
    "id": "PGKcEhfOu8nP"
   },
   "source": [
    "## **Logistic** **Regression**"
   ]
  },
  {
   "cell_type": "code",
   "execution_count": 19,
   "metadata": {},
   "outputs": [
    {
     "data": {
      "text/plain": [
       "array([[ 2.25503714,  0.07683481, -0.59148671, ...,  0.56019082,\n",
       "         0.2858316 , -0.58883131],\n",
       "       [-0.58390501,  2.07317214,  2.90379741, ...,  0.43512997,\n",
       "        -1.09896287, -0.55097728],\n",
       "       [-0.69205518,  0.43980524, -0.57185028, ..., -0.32982746,\n",
       "         0.83449682, -0.6520129 ],\n",
       "       ...,\n",
       "       [-0.42167974,  0.31881509, -0.65039599, ..., -0.36237331,\n",
       "         0.0344722 , -0.61496072],\n",
       "       [-0.31352956,  0.34906263, -0.49330457, ..., -0.10935754,\n",
       "         1.5940195 , -1.12991974],\n",
       "       [-0.98946817, -0.95158139, -0.76821456, ...,  0.88692002,\n",
       "         0.09108612,  0.16164607]])"
      ]
     },
     "execution_count": 19,
     "metadata": {},
     "output_type": "execute_result"
    }
   ],
   "source": [
    "x_train"
   ]
  },
  {
   "cell_type": "code",
   "execution_count": 20,
   "metadata": {
    "colab": {
     "base_uri": "https://localhost:8080/"
    },
    "executionInfo": {
     "elapsed": 410,
     "status": "ok",
     "timestamp": 1629297850901,
     "user": {
      "displayName": "Nisha Jain",
      "photoUrl": "https://lh3.googleusercontent.com/a-/AOh14Gi6rHZwDeuFv3Ag2O0fileLnGKdWzp42w9CDjNq=s64",
      "userId": "13806820765040967715"
     },
     "user_tz": -330
    },
    "id": "tZCnx2K2tr5m",
    "outputId": "e3bba986-a8ea-4d76-b504-2e2bbf5e5561",
    "scrolled": true
   },
   "outputs": [
    {
     "data": {
      "text/plain": [
       "LogisticRegression(random_state=0)"
      ]
     },
     "execution_count": 20,
     "metadata": {},
     "output_type": "execute_result"
    }
   ],
   "source": [
    "from sklearn.linear_model import LogisticRegression\n",
    "classifier=LogisticRegression(random_state=0)\n",
    "classifier.fit(x_train,y_train)"
   ]
  },
  {
   "cell_type": "code",
   "execution_count": 21,
   "metadata": {
    "colab": {
     "base_uri": "https://localhost:8080/"
    },
    "executionInfo": {
     "elapsed": 408,
     "status": "ok",
     "timestamp": 1629298005205,
     "user": {
      "displayName": "Nisha Jain",
      "photoUrl": "https://lh3.googleusercontent.com/a-/AOh14Gi6rHZwDeuFv3Ag2O0fileLnGKdWzp42w9CDjNq=s64",
      "userId": "13806820765040967715"
     },
     "user_tz": -330
    },
    "id": "o2myl6I_vGHU",
    "outputId": "5803c97e-c828-43fb-9b3e-076d46fc85b5"
   },
   "outputs": [
    {
     "name": "stdout",
     "output_type": "stream",
     "text": [
      "['papaya']\n"
     ]
    }
   ],
   "source": [
    "# predicting new result\n",
    "print(classifier.predict(([[20,20,20,20,20,20,20]])))"
   ]
  },
  {
   "cell_type": "code",
   "execution_count": 22,
   "metadata": {
    "executionInfo": {
     "elapsed": 506,
     "status": "ok",
     "timestamp": 1629297865075,
     "user": {
      "displayName": "Nisha Jain",
      "photoUrl": "https://lh3.googleusercontent.com/a-/AOh14Gi6rHZwDeuFv3Ag2O0fileLnGKdWzp42w9CDjNq=s64",
      "userId": "13806820765040967715"
     },
     "user_tz": -330
    },
    "id": "rQzOneBWv7AT"
   },
   "outputs": [],
   "source": [
    "#predicting test results\n",
    "y_pred = classifier.predict(x_test)"
   ]
  },
  {
   "cell_type": "code",
   "execution_count": 23,
   "metadata": {
    "colab": {
     "base_uri": "https://localhost:8080/"
    },
    "executionInfo": {
     "elapsed": 441,
     "status": "ok",
     "timestamp": 1629297869393,
     "user": {
      "displayName": "Nisha Jain",
      "photoUrl": "https://lh3.googleusercontent.com/a-/AOh14Gi6rHZwDeuFv3Ag2O0fileLnGKdWzp42w9CDjNq=s64",
      "userId": "13806820765040967715"
     },
     "user_tz": -330
    },
    "id": "DWIyVQTMvVys",
    "outputId": "8b22e098-15e9-477c-cf4d-e47e4ee3bbe9"
   },
   "outputs": [
    {
     "name": "stdout",
     "output_type": "stream",
     "text": [
      "[[24  0  0  0  0  0  0  0  0  0  0  0  0  0  0  0  0  0  0  0  0  0]\n",
      " [ 0 24  0  0  0  0  0  0  0  0  0  0  0  0  0  0  0  0  0  0  0  0]\n",
      " [ 0  0 24  0  0  0  0  0  0  0  2  0  0  0  0  0  0  0  0  0  0  0]\n",
      " [ 0  0  0 28  0  0  0  0  0  0  0  0  0  0  0  0  0  0  0  0  0  0]\n",
      " [ 0  0  0  0 19  0  0  0  0  0  0  0  0  0  0  0  0  0  0  0  0  0]\n",
      " [ 0  0  0  0  0 24  0  0  0  0  0  0  0  0  0  0  0  0  0  0  0  0]\n",
      " [ 0  0  0  0  0  0 20  0  0  0  0  1  0  0  0  0  0  0  0  0  0  0]\n",
      " [ 0  0  0  0  0  0  0 24  0  0  0  0  0  0  0  0  0  0  0  0  0  0]\n",
      " [ 0  0  0  0  0  0  0  0 25  0  0  0  0  0  0  0  0  1  0  0  2  0]\n",
      " [ 0  0  0  0  0  0  0  0  0 23  0  0  0  0  0  0  0  0  0  0  0  0]\n",
      " [ 0  0  2  0  0  0  0  0  0  0 14  0  0  1  0  0  0  0  0  0  0  0]\n",
      " [ 0  0  0  0  0  0  0  0  0  0  0 22  0  0  0  0  0  0  0  0  0  0]\n",
      " [ 0  0  0  0  0  0  0  0  0  0  0  0 24  0  0  0  0  0  0  0  0  0]\n",
      " [ 0  0  1  0  0  0  0  0  0  0  1  0  0 25  0  0  0  0  2  0  0  0]\n",
      " [ 0  0  0  0  0  0  0  0  0  0  0  0  0  0 27  0  0  0  0  0  0  0]\n",
      " [ 0  0  0  0  0  0  0  0  0  0  0  0  0  0  0 27  0  0  0  0  0  0]\n",
      " [ 0  0  0  0  2  0  0  0  0  0  0  0  0  0  0  0 25  0  0  0  0  0]\n",
      " [ 0  0  0  0  0  0  0  0  0  0  0  0  0  0  0  1  0 27  0  0  0  0]\n",
      " [ 0  0  0  0  0  0  0  0  0  1  0  0  0  0  0  0  0  0 26  0  0  0]\n",
      " [ 0  0  0  0  0  0  0  0  0  0  0  0  0  0  0  0  0  0  0 28  0  0]\n",
      " [ 0  0  0  0  0  0  0  0  3  0  0  0  0  0  0  0  0  0  0  0 26  0]\n",
      " [ 0  0  0  0  0  0  0  0  0  0  0  0  0  0  0  0  0  0  0  0  0 24]]\n",
      "\n",
      "Accuracy of Logistic Regression is\n",
      "0.9636363636363636\n"
     ]
    }
   ],
   "source": [
    "from sklearn.metrics import confusion_matrix,accuracy_score\n",
    "cm = confusion_matrix(y_test,y_pred)\n",
    "print(cm)\n",
    "print('\\nAccuracy of Logistic Regression is')\n",
    "x = accuracy_score(y_test,y_pred)\n",
    "print(x)\n",
    "\n",
    "model.append('Logistic Regression')\n",
    "acc.append(x)"
   ]
  },
  {
   "cell_type": "markdown",
   "metadata": {
    "id": "9lXiFHq1xBNM"
   },
   "source": [
    "## **SVM**"
   ]
  },
  {
   "cell_type": "code",
   "execution_count": null,
   "metadata": {
    "colab": {
     "base_uri": "https://localhost:8080/"
    },
    "executionInfo": {
     "elapsed": 404,
     "status": "ok",
     "timestamp": 1629297881863,
     "user": {
      "displayName": "Nisha Jain",
      "photoUrl": "https://lh3.googleusercontent.com/a-/AOh14Gi6rHZwDeuFv3Ag2O0fileLnGKdWzp42w9CDjNq=s64",
      "userId": "13806820765040967715"
     },
     "user_tz": -330
    },
    "id": "b4CPE3ZUv3gP",
    "outputId": "3261a57c-0faf-4c8e-c5c7-6928f2ebec36"
   },
   "outputs": [],
   "source": [
    "#Training the SVM model on the Training set\n",
    "\n",
    "from sklearn.svm import SVC\n",
    "classifier = SVC(kernel = 'linear', random_state = 0)\n",
    "classifier.fit(x_train, y_train)"
   ]
  },
  {
   "cell_type": "code",
   "execution_count": null,
   "metadata": {
    "colab": {
     "base_uri": "https://localhost:8080/"
    },
    "executionInfo": {
     "elapsed": 561,
     "status": "ok",
     "timestamp": 1629297884320,
     "user": {
      "displayName": "Nisha Jain",
      "photoUrl": "https://lh3.googleusercontent.com/a-/AOh14Gi6rHZwDeuFv3Ag2O0fileLnGKdWzp42w9CDjNq=s64",
      "userId": "13806820765040967715"
     },
     "user_tz": -330
    },
    "id": "B2dXRb1exMzl",
    "outputId": "69154a2a-63d4-4a90-b93b-359325310948"
   },
   "outputs": [],
   "source": [
    "print(classifier.predict(([[90,40,40,20,80,7,200]])))"
   ]
  },
  {
   "cell_type": "code",
   "execution_count": null,
   "metadata": {
    "executionInfo": {
     "elapsed": 514,
     "status": "ok",
     "timestamp": 1629297886215,
     "user": {
      "displayName": "Nisha Jain",
      "photoUrl": "https://lh3.googleusercontent.com/a-/AOh14Gi6rHZwDeuFv3Ag2O0fileLnGKdWzp42w9CDjNq=s64",
      "userId": "13806820765040967715"
     },
     "user_tz": -330
    },
    "id": "Q7Dm7PtjxU12"
   },
   "outputs": [],
   "source": [
    "#predicting test results\n",
    "y_pred = classifier.predict(x_test)"
   ]
  },
  {
   "cell_type": "code",
   "execution_count": null,
   "metadata": {
    "colab": {
     "base_uri": "https://localhost:8080/"
    },
    "executionInfo": {
     "elapsed": 418,
     "status": "ok",
     "timestamp": 1629297914019,
     "user": {
      "displayName": "Nisha Jain",
      "photoUrl": "https://lh3.googleusercontent.com/a-/AOh14Gi6rHZwDeuFv3Ag2O0fileLnGKdWzp42w9CDjNq=s64",
      "userId": "13806820765040967715"
     },
     "user_tz": -330
    },
    "id": "O8MX14XGxYxa",
    "outputId": "07042cb6-30cd-434b-fa2d-f49809f49894"
   },
   "outputs": [],
   "source": [
    "from sklearn.metrics import confusion_matrix,accuracy_score\n",
    "cm = confusion_matrix(y_test,y_pred)\n",
    "print(cm)\n",
    "print('\\nAccuracy of SVM is')\n",
    "x=accuracy_score(y_test,y_pred)\n",
    "print(x)\n",
    "\n",
    "model.append('SVM')\n",
    "acc.append(x)"
   ]
  },
  {
   "cell_type": "markdown",
   "metadata": {
    "id": "D9a2hDERx53y"
   },
   "source": [
    "## **Naive Bayes**"
   ]
  },
  {
   "cell_type": "code",
   "execution_count": null,
   "metadata": {
    "executionInfo": {
     "elapsed": 527,
     "status": "ok",
     "timestamp": 1629297215723,
     "user": {
      "displayName": "Nisha Jain",
      "photoUrl": "https://lh3.googleusercontent.com/a-/AOh14Gi6rHZwDeuFv3Ag2O0fileLnGKdWzp42w9CDjNq=s64",
      "userId": "13806820765040967715"
     },
     "user_tz": -330
    },
    "id": "N74zBBeyx4f7"
   },
   "outputs": [],
   "source": [
    "from sklearn.naive_bayes import GaussianNB\n",
    "classifier = GaussianNB()\n",
    "classifier.fit(x_train, y_train)\n",
    "\n",
    "# Predicting the Test set results\n",
    "y_pred = classifier.predict(x_test)"
   ]
  },
  {
   "cell_type": "code",
   "execution_count": null,
   "metadata": {
    "colab": {
     "base_uri": "https://localhost:8080/"
    },
    "executionInfo": {
     "elapsed": 9,
     "status": "ok",
     "timestamp": 1629297217354,
     "user": {
      "displayName": "Nisha Jain",
      "photoUrl": "https://lh3.googleusercontent.com/a-/AOh14Gi6rHZwDeuFv3Ag2O0fileLnGKdWzp42w9CDjNq=s64",
      "userId": "13806820765040967715"
     },
     "user_tz": -330
    },
    "id": "xLX61m8uxbh7",
    "outputId": "e1df1bf5-2819-4280-a6c5-ae413a77b43e"
   },
   "outputs": [],
   "source": [
    "print(classifier.predict(([[90,40,40,20,80,7,200]])))"
   ]
  },
  {
   "cell_type": "code",
   "execution_count": null,
   "metadata": {
    "colab": {
     "base_uri": "https://localhost:8080/"
    },
    "executionInfo": {
     "elapsed": 647,
     "status": "ok",
     "timestamp": 1629297218608,
     "user": {
      "displayName": "Nisha Jain",
      "photoUrl": "https://lh3.googleusercontent.com/a-/AOh14Gi6rHZwDeuFv3Ag2O0fileLnGKdWzp42w9CDjNq=s64",
      "userId": "13806820765040967715"
     },
     "user_tz": -330
    },
    "id": "4lXN4S3cyhmu",
    "outputId": "f584006e-4f4f-47ac-fc38-14754e50b3ca"
   },
   "outputs": [],
   "source": [
    "from sklearn.metrics import confusion_matrix,accuracy_score\n",
    "cm = confusion_matrix(y_test,y_pred)\n",
    "print(cm)\n",
    "print('\\nAccuracy of Naive Bayes is')\n",
    "x = accuracy_score(y_test,y_pred)\n",
    "\n",
    "print(x)\n",
    "\n",
    "model.append('Naive Bayes')\n",
    "acc.append(x)"
   ]
  },
  {
   "cell_type": "markdown",
   "metadata": {
    "id": "raHKxO0XzCAJ"
   },
   "source": [
    "## **Decision Tree**"
   ]
  },
  {
   "cell_type": "code",
   "execution_count": null,
   "metadata": {
    "colab": {
     "base_uri": "https://localhost:8080/"
    },
    "executionInfo": {
     "elapsed": 603,
     "status": "ok",
     "timestamp": 1629297225150,
     "user": {
      "displayName": "Nisha Jain",
      "photoUrl": "https://lh3.googleusercontent.com/a-/AOh14Gi6rHZwDeuFv3Ag2O0fileLnGKdWzp42w9CDjNq=s64",
      "userId": "13806820765040967715"
     },
     "user_tz": -330
    },
    "id": "fRt9nraAypgW",
    "outputId": "edcad14f-3409-4cb6-974f-ba6301395589"
   },
   "outputs": [],
   "source": [
    "from sklearn.tree import DecisionTreeClassifier\n",
    "classifier = DecisionTreeClassifier(criterion = 'entropy', random_state = 0)\n",
    "classifier.fit(x_train, y_train)"
   ]
  },
  {
   "cell_type": "code",
   "execution_count": null,
   "metadata": {
    "colab": {
     "base_uri": "https://localhost:8080/"
    },
    "executionInfo": {
     "elapsed": 9,
     "status": "ok",
     "timestamp": 1629297226899,
     "user": {
      "displayName": "Nisha Jain",
      "photoUrl": "https://lh3.googleusercontent.com/a-/AOh14Gi6rHZwDeuFv3Ag2O0fileLnGKdWzp42w9CDjNq=s64",
      "userId": "13806820765040967715"
     },
     "user_tz": -330
    },
    "id": "t-Lsd_yZzOfs",
    "outputId": "1b5cbee6-616f-4130-ae83-79b9115fbcb5"
   },
   "outputs": [],
   "source": [
    "from sklearn.metrics import confusion_matrix,accuracy_score\n",
    "classifier = DecisionTreeClassifier(criterion = 'entropy', random_state = 0)\n",
    "classifier.fit(x_train, y_train)\n",
    "cm = confusion_matrix(y_test,y_pred)\n",
    "print(cm)\n",
    "print('\\nAccuracy of Decision Tree is')\n",
    "x = accuracy_score(y_test,y_pred)\n",
    "print(x)\n",
    "\n",
    "model.append('Decision Tree')\n",
    "acc.append(x)"
   ]
  },
  {
   "cell_type": "markdown",
   "metadata": {
    "id": "3F8L8AkZ0zwZ"
   },
   "source": [
    "## **Accuracy comparision**"
   ]
  },
  {
   "cell_type": "code",
   "execution_count": null,
   "metadata": {
    "colab": {
     "base_uri": "https://localhost:8080/",
     "height": 497
    },
    "executionInfo": {
     "elapsed": 458,
     "status": "ok",
     "timestamp": 1626853579063,
     "user": {
      "displayName": "4PS18IS033 Nisha Jain",
      "photoUrl": "https://lh3.googleusercontent.com/a-/AOh14Gi6rHZwDeuFv3Ag2O0fileLnGKdWzp42w9CDjNq=s64",
      "userId": "13806820765040967715"
     },
     "user_tz": -330
    },
    "id": "Emq7BEmWzTI_",
    "outputId": "ef2b19a0-fe58-4475-e70f-8b34ed2dbd3a"
   },
   "outputs": [],
   "source": [
    "plt.figure(figsize=[10,5],dpi = 100)\n",
    "plt.title('Accuracy Comparison')\n",
    "plt.xlabel('Accuracy')\n",
    "plt.ylabel('Algorithm')\n",
    "sns.barplot(x = acc,y = model,palette='dark')"
   ]
  }
 ],
 "metadata": {
  "colab": {
   "authorship_tag": "ABX9TyPlEdnmW2h16qQ4ymR2RTWG",
   "name": "Copy of Crop_Prediction.ipynb",
   "provenance": [
    {
     "file_id": "1igHAdd_FrZJWT41QS_GeUhv-gIt55J-G",
     "timestamp": 1626854302688
    }
   ]
  },
  "kernelspec": {
   "display_name": "Python 3",
   "language": "python",
   "name": "python3"
  },
  "language_info": {
   "codemirror_mode": {
    "name": "ipython",
    "version": 3
   },
   "file_extension": ".py",
   "mimetype": "text/x-python",
   "name": "python",
   "nbconvert_exporter": "python",
   "pygments_lexer": "ipython3",
   "version": "3.8.10"
  }
 },
 "nbformat": 4,
 "nbformat_minor": 1
}
